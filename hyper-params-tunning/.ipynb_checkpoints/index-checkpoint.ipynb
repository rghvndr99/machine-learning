{
 "cells": [
  {
   "cell_type": "code",
   "execution_count": null,
   "id": "4ea2f4ce-e51f-4633-87f7-4c2372778926",
   "metadata": {},
   "outputs": [],
   "source": []
  }
 ],
 "metadata": {
  "kernelspec": {
   "display_name": "Python 3 (ipykernel)",
   "language": "python",
   "name": "python3"
  },
  "language_info": {
   "name": ""
  }
 },
 "nbformat": 4,
 "nbformat_minor": 5
}
